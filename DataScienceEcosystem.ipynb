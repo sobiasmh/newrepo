{
 "cells": [
  {
   "cell_type": "markdown",
   "id": "743e7a60-14e1-488c-b054-d8cf34572b8d",
   "metadata": {},
   "source": [
    "# H1 : Data Science Tools and Ecosystem"
   ]
  },
  {
   "cell_type": "markdown",
   "id": "2f3cb8d9-85a4-4bfa-93ca-83ffcfa17ca1",
   "metadata": {},
   "source": [
    "In this notebook, Data Science Tools and Ecosystem are summarized.\n"
   ]
  },
  {
   "cell_type": "markdown",
   "id": "61dca5a5-927c-4d15-9055-55c390e5f7e6",
   "metadata": {},
   "source": [
    "**Objectives:**\n",
    "\n",
    "- Commericial tools for Data Science\n",
    "- Cloud Based tools for Data Science\n",
    "- Languages for Data Science\n",
    "- Libraries for Data Science\n",
    "- Intro to Jupyter Notenook"
   ]
  },
  {
   "cell_type": "markdown",
   "id": "ae3a03f1-5db4-4b95-8563-7a90438b45ec",
   "metadata": {
    "tags": []
   },
   "source": [
    "Some of the popular languages that Data Scientists use are:\n",
    "1. Python\n",
    "2. R\n",
    "3. Java"
   ]
  },
  {
   "cell_type": "markdown",
   "id": "8bffca16-3b83-4944-a00a-7ee574f7fd91",
   "metadata": {},
   "source": [
    "Some of the commonly used libraries used by Data Scientists include:\n",
    "1. TensorFlow\n",
    "2. NumPy\n",
    "3. SciPy\n",
    "4. Pandas\n",
    "5. Matplotlib"
   ]
  },
  {
   "cell_type": "markdown",
   "id": "b8928fcc-8c2d-4a0b-8e7e-d2143db88159",
   "metadata": {},
   "source": [
    "| Data Science Tools |\n",
    "| ------------------- |\n",
    "| RStudio |\n",
    "|Apache Spark |\n",
    "|TensorFlow |\n"
   ]
  },
  {
   "cell_type": "markdown",
   "id": "21975f77-9e31-4983-b33c-71c311518e2c",
   "metadata": {},
   "source": [
    "### H3 : Below are a few examples of evaluating arithmetic expressions in Python.\n"
   ]
  },
  {
   "cell_type": "code",
   "execution_count": 2,
   "id": "c675c129-0719-4c72-bf6d-34155b4febf9",
   "metadata": {
    "tags": []
   },
   "outputs": [
    {
     "data": {
      "text/plain": [
       "17"
      ]
     },
     "execution_count": 2,
     "metadata": {},
     "output_type": "execute_result"
    }
   ],
   "source": [
    "##This a simple arithmetic expression to mutiply then add integers\n",
    "(3*4)+5"
   ]
  },
  {
   "cell_type": "code",
   "execution_count": 6,
   "id": "0874d5b6-6c17-437e-a18d-0d577bf9680a",
   "metadata": {
    "tags": []
   },
   "outputs": [
    {
     "data": {
      "text/plain": [
       "3"
      ]
     },
     "execution_count": 6,
     "metadata": {},
     "output_type": "execute_result"
    }
   ],
   "source": [
    "##This will convert 200 minutes to hours by diving by 60\n",
    "200 // 60\n"
   ]
  },
  {
   "cell_type": "markdown",
   "id": "173b860c-c547-4719-b5ae-1574dcf117dc",
   "metadata": {
    "tags": []
   },
   "source": [
    "## H2 : Author \n",
    "Sobia Zulfiqar"
   ]
  },
  {
   "cell_type": "code",
   "execution_count": null,
   "id": "29469ca1-7172-496e-b232-5c469d6d3922",
   "metadata": {},
   "outputs": [],
   "source": []
  }
 ],
 "metadata": {
  "kernelspec": {
   "display_name": "Python",
   "language": "python",
   "name": "conda-env-python-py"
  },
  "language_info": {
   "codemirror_mode": {
    "name": "ipython",
    "version": 3
   },
   "file_extension": ".py",
   "mimetype": "text/x-python",
   "name": "python",
   "nbconvert_exporter": "python",
   "pygments_lexer": "ipython3",
   "version": "3.7.12"
  }
 },
 "nbformat": 4,
 "nbformat_minor": 5
}
